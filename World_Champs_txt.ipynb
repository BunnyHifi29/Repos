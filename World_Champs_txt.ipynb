{
  "nbformat": 4,
  "nbformat_minor": 0,
  "metadata": {
    "colab": {
      "provenance": [],
      "authorship_tag": "ABX9TyONyzP0kM+Sfhz4sK+GZa5L",
      "include_colab_link": true
    },
    "kernelspec": {
      "name": "python3",
      "display_name": "Python 3"
    },
    "language_info": {
      "name": "python"
    }
  },
  "cells": [
    {
      "cell_type": "markdown",
      "metadata": {
        "id": "view-in-github",
        "colab_type": "text"
      },
      "source": [
        "<a href=\"https://colab.research.google.com/github/BunnyHifi29/Repos/blob/main/World_Champs_txt.ipynb\" target=\"_parent\"><img src=\"https://colab.research.google.com/assets/colab-badge.svg\" alt=\"Open In Colab\"/></a>"
      ]
    },
    {
      "cell_type": "code",
      "execution_count": null,
      "metadata": {
        "colab": {
          "base_uri": "https://localhost:8080/",
          "height": 131
        },
        "id": "d14HM1dIdac-",
        "outputId": "2d13510d-03aa-4914-842d-756cb0c8ff2f"
      },
      "outputs": [
        {
          "output_type": "error",
          "ename": "SyntaxError",
          "evalue": "ignored",
          "traceback": [
            "\u001b[0;36m  File \u001b[0;32m\"<ipython-input-1-604c528c138a>\"\u001b[0;36m, line \u001b[0;32m1\u001b[0m\n\u001b[0;31m    Boston Americans\u001b[0m\n\u001b[0m           ^\u001b[0m\n\u001b[0;31mSyntaxError\u001b[0m\u001b[0;31m:\u001b[0m invalid syntax\n"
          ]
        }
      ],
      "source": [
        "Boston Americans\n",
        "New York Giants\n",
        "Chicago White Sox\n",
        "Chicago Cubs\n",
        "Chicago Cubs\n",
        "Pittsburgh Pirates\n",
        "Philadelphia Athletics\n",
        "Philadelphia Athletics\n",
        "Boston Red Sox\n",
        "Philadelphia Athletics\n",
        "Boston Braves\n",
        "Boston Red Sox\n",
        "Boston Red Sox\n",
        "Chicago White Sox\n",
        "Boston Red Sox\n",
        "Cincinnati Reds\n",
        "Cleveland Indians\n",
        "New York Giants\n",
        "New York Giants\n",
        "New York Yankees\n",
        "Washington Senators\n",
        "Pittsburgh Pirates\n",
        "St. Louis Cardinals\n",
        "New York Yankees\n",
        "New York Yankees\n",
        "Philadelphia Athletics\n",
        "Philadelphia Athletics\n",
        "St. Louis Cardinals\n",
        "New York Yankees\n",
        "New York Giants\n",
        "St. Louis Cardinals\n",
        "Detroit Tigers\n",
        "New York Yankees\n",
        "New York Yankees\n",
        "New York Yankees\n",
        "New York Yankees\n",
        "Cincinnati Reds\n",
        "New York Yankees\n",
        "St. Louis Cardinals\n",
        "New York Yankees\n",
        "St. Louis Cardinals\n",
        "Detroit Tigers\n",
        "St. Louis Cardinals\n",
        "New York Yankees\n",
        "Cleveland Indians\n",
        "New York Yankees\n",
        "New York Yankees\n",
        "New York Yankees\n",
        "New York Yankees\n",
        "New York Yankees\n",
        "New York Giants\n",
        "Brooklyn Dodgers\n",
        "New York Yankees\n",
        "Milwaukee Braves\n",
        "New York Yankees\n",
        "Los Angeles Dodgers\n",
        "Pittsburgh Pirates\n",
        "New York Yankees\n",
        "New York Yankees\n",
        "Los Angeles Dodgers\n",
        "St. Louis Cardinals\n",
        "Los Angeles Dodgers\n",
        "Baltimore Orioles\n",
        "St. Louis Cardinals\n",
        "Detroit Tigers\n",
        "New York Mets\n",
        "Baltimore Orioles\n",
        "Pittsburgh Pirates\n",
        "Oakland Athletics\n",
        "Oakland Athletics\n",
        "Oakland Athletics\n",
        "Cincinnati Reds\n",
        "Cincinnati Reds\n",
        "New York Yankees\n",
        "New York Yankees\n",
        "Pittsburgh Pirates\n",
        "Philadelphia Phillies\n",
        "Los Angeles Dodgers\n",
        "St. Louis Cardinals\n",
        "Baltimore Orioles\n",
        "Detroit Tigers\n",
        "Kansas City Royals\n",
        "New York Mets\n",
        "Minnesota Twins\n",
        "Los Angeles Dodgers\n",
        "Oakland Athletics\n",
        "Cincinnati Reds\n",
        "Minnesota Twins\n",
        "Toronto Blue Jays\n",
        "Toronto Blue Jays\n",
        "Atlanta Braves\n",
        "New York Yankees\n",
        "Florida Marlins\n",
        "New York Yankees\n",
        "New York Yankees\n",
        "New York Yankees\n",
        "Arizona Diamondbacks\n",
        "Anaheim Angels\n",
        "Florida Marlins\n",
        "Boston Red Sox\n",
        "Chicago White Sox\n",
        "St. Louis Cardinals\n",
        "Boston Red Sox\n",
        "Philadelphia Phillies"
      ]
    }
  ]
}